{
 "cells": [
  {
   "cell_type": "code",
   "execution_count": 3,
   "id": "f44ea05b",
   "metadata": {},
   "outputs": [],
   "source": [
    "import os, shutil\n",
    "import cv2\n",
    "import random\n",
    "import numpy as np\n",
    "import joblib\n",
    "\n",
    "from sklearn.preprocessing import LabelBinarizer\n",
    "from tqdm import tqdm\n",
    "from imutils import paths"
   ]
  },
  {
   "cell_type": "code",
   "execution_count": 6,
   "id": "55078d7b",
   "metadata": {},
   "outputs": [],
   "source": [
    "Train_Path = list(paths.list_images('tain'))\n",
    "Test_Path = list(paths.list_images('test'))"
   ]
  },
  {
   "cell_type": "code",
   "execution_count": null,
   "id": "1e118981",
   "metadata": {},
   "outputs": [],
   "source": [
    "data = pd.DataFrame()\n",
    "labels = []\n",
    "for i, train_Path in tqdm(enumerate(train_Path), total=len(train_Path)):\n",
    "    label = image_path.split(os.path.sep)[-2]\n",
    "    # save the relative path for mapping image to target\n",
    "    data.loc[i, 'image_path'] = image_path\n",
    "    labels.append(label)"
   ]
  },
  {
   "cell_type": "code",
   "execution_count": null,
   "id": "ab5e9011",
   "metadata": {},
   "outputs": [],
   "source": []
  },
  {
   "cell_type": "code",
   "execution_count": null,
   "id": "0c866d20",
   "metadata": {},
   "outputs": [],
   "source": []
  },
  {
   "cell_type": "code",
   "execution_count": null,
   "id": "e6b7db02",
   "metadata": {},
   "outputs": [],
   "source": []
  },
  {
   "cell_type": "code",
   "execution_count": null,
   "id": "b4b5dd0d",
   "metadata": {},
   "outputs": [],
   "source": []
  },
  {
   "cell_type": "code",
   "execution_count": null,
   "id": "a27b0e42",
   "metadata": {},
   "outputs": [],
   "source": []
  },
  {
   "cell_type": "code",
   "execution_count": null,
   "id": "3d48a864",
   "metadata": {},
   "outputs": [],
   "source": []
  }
 ],
 "metadata": {
  "kernelspec": {
   "display_name": "Python 3 (ipykernel)",
   "language": "python",
   "name": "python3"
  },
  "language_info": {
   "codemirror_mode": {
    "name": "ipython",
    "version": 3
   },
   "file_extension": ".py",
   "mimetype": "text/x-python",
   "name": "python",
   "nbconvert_exporter": "python",
   "pygments_lexer": "ipython3",
   "version": "3.10.11"
  }
 },
 "nbformat": 4,
 "nbformat_minor": 5
}
